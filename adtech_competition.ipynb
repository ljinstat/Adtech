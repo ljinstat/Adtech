{
 "cells": [
  {
   "cell_type": "code",
   "execution_count": 2,
   "metadata": {
    "collapsed": true
   },
   "outputs": [],
   "source": [
    "import pandas as pd\n",
    "import numpy as np\n",
    "import matplotlib.pyplot as plt\n",
    "import seaborn as sns\n",
    "import datetime\n",
    "np.random.seed(sum(map(ord, \"aesthetics\")))\n",
    "%matplotlib inline"
   ]
  },
  {
   "cell_type": "code",
   "execution_count": 3,
   "metadata": {},
   "outputs": [
    {
     "data": {
      "text/plain": [
       "auction_id                     3000000\n",
       "timestamp                      3000000\n",
       "creative_duration              3000000\n",
       "creative_id                    3000000\n",
       "campaign_id                    3000000\n",
       "advertiser_id                  2958556\n",
       "placement_id                   3000000\n",
       "placement_language             2999811\n",
       "website_id                     3000000\n",
       "referer_deep_three             2963303\n",
       "ua_country                     2999986\n",
       "ua_os                          3000000\n",
       "ua_browser                     3000000\n",
       "ua_browser_version             2399960\n",
       "ua_device                      2999802\n",
       "user_average_seconds_played    1099705\n",
       "seconds_played                 3000000\n",
       "dtype: int64"
      ]
     },
     "execution_count": 3,
     "metadata": {},
     "output_type": "execute_result"
    }
   ],
   "source": [
    "train = pd.read_csv(\"training.csv\",sep=\",\")\n",
    "train.count()"
   ]
  },
  {
   "cell_type": "code",
   "execution_count": 4,
   "metadata": {},
   "outputs": [
    {
     "name": "stdout",
     "output_type": "stream",
     "text": [
      "<class 'pandas.core.frame.DataFrame'>\n",
      "RangeIndex: 3000000 entries, 0 to 2999999\n",
      "Data columns (total 17 columns):\n",
      "auction_id                     object\n",
      "timestamp                      int64\n",
      "creative_duration              int64\n",
      "creative_id                    int64\n",
      "campaign_id                    int64\n",
      "advertiser_id                  float64\n",
      "placement_id                   int64\n",
      "placement_language             object\n",
      "website_id                     int64\n",
      "referer_deep_three             object\n",
      "ua_country                     object\n",
      "ua_os                          object\n",
      "ua_browser                     object\n",
      "ua_browser_version             float64\n",
      "ua_device                      object\n",
      "user_average_seconds_played    float64\n",
      "seconds_played                 int64\n",
      "dtypes: float64(3), int64(7), object(7)\n",
      "memory usage: 389.1+ MB\n"
     ]
    }
   ],
   "source": [
    "train.info()"
   ]
  },
  {
   "cell_type": "code",
   "execution_count": 5,
   "metadata": {},
   "outputs": [
    {
     "data": {
      "text/html": [
       "<div>\n",
       "<style scoped>\n",
       "    .dataframe tbody tr th:only-of-type {\n",
       "        vertical-align: middle;\n",
       "    }\n",
       "\n",
       "    .dataframe tbody tr th {\n",
       "        vertical-align: top;\n",
       "    }\n",
       "\n",
       "    .dataframe thead th {\n",
       "        text-align: right;\n",
       "    }\n",
       "</style>\n",
       "<table border=\"1\" class=\"dataframe\">\n",
       "  <thead>\n",
       "    <tr style=\"text-align: right;\">\n",
       "      <th></th>\n",
       "      <th>auction_id</th>\n",
       "      <th>timestamp</th>\n",
       "      <th>creative_duration</th>\n",
       "      <th>creative_id</th>\n",
       "      <th>campaign_id</th>\n",
       "      <th>advertiser_id</th>\n",
       "      <th>placement_id</th>\n",
       "      <th>placement_language</th>\n",
       "      <th>website_id</th>\n",
       "      <th>referer_deep_three</th>\n",
       "      <th>ua_country</th>\n",
       "      <th>ua_os</th>\n",
       "      <th>ua_browser</th>\n",
       "      <th>ua_browser_version</th>\n",
       "      <th>ua_device</th>\n",
       "      <th>user_average_seconds_played</th>\n",
       "      <th>seconds_played</th>\n",
       "    </tr>\n",
       "  </thead>\n",
       "  <tbody>\n",
       "    <tr>\n",
       "      <th>0</th>\n",
       "      <td>0008b046-b675-4f51-8ad6-fe06e5d81f8e</td>\n",
       "      <td>1517334694</td>\n",
       "      <td>25</td>\n",
       "      <td>198280</td>\n",
       "      <td>210671</td>\n",
       "      <td>7109.0</td>\n",
       "      <td>47216</td>\n",
       "      <td>fr</td>\n",
       "      <td>31838</td>\n",
       "      <td>de/golf/publish</td>\n",
       "      <td>ch</td>\n",
       "      <td>Windows</td>\n",
       "      <td>Microsoft Edge</td>\n",
       "      <td>16.0</td>\n",
       "      <td>PersonalComputer</td>\n",
       "      <td>NaN</td>\n",
       "      <td>9</td>\n",
       "    </tr>\n",
       "    <tr>\n",
       "      <th>1</th>\n",
       "      <td>00095bac-8fec-48c8-a17b-8f3878359e1d</td>\n",
       "      <td>1517270483</td>\n",
       "      <td>29</td>\n",
       "      <td>195285</td>\n",
       "      <td>210074</td>\n",
       "      <td>2270.0</td>\n",
       "      <td>77249</td>\n",
       "      <td>fr</td>\n",
       "      <td>46416</td>\n",
       "      <td>com/vinepair/articles</td>\n",
       "      <td>uk</td>\n",
       "      <td>Windows</td>\n",
       "      <td>Chrome</td>\n",
       "      <td>64.0</td>\n",
       "      <td>PersonalComputer</td>\n",
       "      <td>NaN</td>\n",
       "      <td>8</td>\n",
       "    </tr>\n",
       "    <tr>\n",
       "      <th>2</th>\n",
       "      <td>000c4c0c-0789-4e50-8ba6-a4be920ab482</td>\n",
       "      <td>1517339899</td>\n",
       "      <td>60</td>\n",
       "      <td>201430</td>\n",
       "      <td>214063</td>\n",
       "      <td>2643.0</td>\n",
       "      <td>25817</td>\n",
       "      <td>fr</td>\n",
       "      <td>20824</td>\n",
       "      <td>co.uk/hastingsobserver/news</td>\n",
       "      <td>uk</td>\n",
       "      <td>iOS</td>\n",
       "      <td>Facebook App</td>\n",
       "      <td>NaN</td>\n",
       "      <td>Tablet</td>\n",
       "      <td>NaN</td>\n",
       "      <td>1</td>\n",
       "    </tr>\n",
       "    <tr>\n",
       "      <th>3</th>\n",
       "      <td>000db509-3350-4cd9-b60a-d506fbd31f29</td>\n",
       "      <td>1517346542</td>\n",
       "      <td>29</td>\n",
       "      <td>198262</td>\n",
       "      <td>215400</td>\n",
       "      <td>2244.0</td>\n",
       "      <td>86526</td>\n",
       "      <td>fr</td>\n",
       "      <td>39091</td>\n",
       "      <td>com/slate/news-and-politics</td>\n",
       "      <td>us</td>\n",
       "      <td>Windows</td>\n",
       "      <td>Chrome</td>\n",
       "      <td>63.0</td>\n",
       "      <td>PersonalComputer</td>\n",
       "      <td>18.166666</td>\n",
       "      <td>1</td>\n",
       "    </tr>\n",
       "    <tr>\n",
       "      <th>4</th>\n",
       "      <td>001300de-8eda-480f-bec8-4b46ef6117f2</td>\n",
       "      <td>1517310926</td>\n",
       "      <td>29</td>\n",
       "      <td>174590</td>\n",
       "      <td>184750</td>\n",
       "      <td>3617.0</td>\n",
       "      <td>85350</td>\n",
       "      <td>fr</td>\n",
       "      <td>14796</td>\n",
       "      <td>co.uk/independent/arts-entertainment</td>\n",
       "      <td>uk</td>\n",
       "      <td>Windows</td>\n",
       "      <td>Firefox</td>\n",
       "      <td>58.0</td>\n",
       "      <td>PersonalComputer</td>\n",
       "      <td>NaN</td>\n",
       "      <td>0</td>\n",
       "    </tr>\n",
       "  </tbody>\n",
       "</table>\n",
       "</div>"
      ],
      "text/plain": [
       "                             auction_id   timestamp  creative_duration  \\\n",
       "0  0008b046-b675-4f51-8ad6-fe06e5d81f8e  1517334694                 25   \n",
       "1  00095bac-8fec-48c8-a17b-8f3878359e1d  1517270483                 29   \n",
       "2  000c4c0c-0789-4e50-8ba6-a4be920ab482  1517339899                 60   \n",
       "3  000db509-3350-4cd9-b60a-d506fbd31f29  1517346542                 29   \n",
       "4  001300de-8eda-480f-bec8-4b46ef6117f2  1517310926                 29   \n",
       "\n",
       "   creative_id  campaign_id  advertiser_id  placement_id placement_language  \\\n",
       "0       198280       210671         7109.0         47216                 fr   \n",
       "1       195285       210074         2270.0         77249                 fr   \n",
       "2       201430       214063         2643.0         25817                 fr   \n",
       "3       198262       215400         2244.0         86526                 fr   \n",
       "4       174590       184750         3617.0         85350                 fr   \n",
       "\n",
       "   website_id                    referer_deep_three ua_country    ua_os  \\\n",
       "0       31838                       de/golf/publish         ch  Windows   \n",
       "1       46416                 com/vinepair/articles         uk  Windows   \n",
       "2       20824           co.uk/hastingsobserver/news         uk      iOS   \n",
       "3       39091           com/slate/news-and-politics         us  Windows   \n",
       "4       14796  co.uk/independent/arts-entertainment         uk  Windows   \n",
       "\n",
       "       ua_browser  ua_browser_version         ua_device  \\\n",
       "0  Microsoft Edge                16.0  PersonalComputer   \n",
       "1          Chrome                64.0  PersonalComputer   \n",
       "2    Facebook App                 NaN            Tablet   \n",
       "3          Chrome                63.0  PersonalComputer   \n",
       "4         Firefox                58.0  PersonalComputer   \n",
       "\n",
       "   user_average_seconds_played  seconds_played  \n",
       "0                          NaN               9  \n",
       "1                          NaN               8  \n",
       "2                          NaN               1  \n",
       "3                    18.166666               1  \n",
       "4                          NaN               0  "
      ]
     },
     "execution_count": 5,
     "metadata": {},
     "output_type": "execute_result"
    }
   ],
   "source": [
    "train.head()"
   ]
  },
  {
   "cell_type": "raw",
   "metadata": {},
   "source": []
  },
  {
   "cell_type": "code",
   "execution_count": 4,
   "metadata": {},
   "outputs": [
    {
     "data": {
      "text/plain": [
       "auction_id                     1000000\n",
       "timestamp                      1000000\n",
       "creative_duration              1000000\n",
       "creative_id                    1000000\n",
       "campaign_id                    1000000\n",
       "advertiser_id                   988902\n",
       "placement_id                   1000000\n",
       "placement_language              999814\n",
       "website_id                     1000000\n",
       "referer_deep_three              980011\n",
       "ua_country                      999993\n",
       "ua_os                          1000000\n",
       "ua_browser                     1000000\n",
       "ua_browser_version              800478\n",
       "ua_device                       999961\n",
       "user_average_seconds_played     361575\n",
       "dtype: int64"
      ]
     },
     "execution_count": 4,
     "metadata": {},
     "output_type": "execute_result"
    }
   ],
   "source": [
    "test = pd.read_csv(\"test.csv\",sep=\",\")\n",
    "test.count()"
   ]
  },
  {
   "cell_type": "code",
   "execution_count": 5,
   "metadata": {},
   "outputs": [
    {
     "name": "stdout",
     "output_type": "stream",
     "text": [
      "<class 'pandas.core.frame.DataFrame'>\n",
      "RangeIndex: 1000000 entries, 0 to 999999\n",
      "Data columns (total 16 columns):\n",
      "auction_id                     1000000 non-null object\n",
      "timestamp                      1000000 non-null int64\n",
      "creative_duration              1000000 non-null int64\n",
      "creative_id                    1000000 non-null int64\n",
      "campaign_id                    1000000 non-null int64\n",
      "advertiser_id                  988902 non-null float64\n",
      "placement_id                   1000000 non-null int64\n",
      "placement_language             999814 non-null object\n",
      "website_id                     1000000 non-null int64\n",
      "referer_deep_three             980011 non-null object\n",
      "ua_country                     999993 non-null object\n",
      "ua_os                          1000000 non-null object\n",
      "ua_browser                     1000000 non-null object\n",
      "ua_browser_version             800478 non-null float64\n",
      "ua_device                      999961 non-null object\n",
      "user_average_seconds_played    361575 non-null float64\n",
      "dtypes: float64(3), int64(6), object(7)\n",
      "memory usage: 122.1+ MB\n"
     ]
    }
   ],
   "source": [
    "test.info()"
   ]
  },
  {
   "cell_type": "markdown",
   "metadata": {},
   "source": [
    "### Convert the timestamp to datetime"
   ]
  },
  {
   "cell_type": "code",
   "execution_count": 6,
   "metadata": {},
   "outputs": [
    {
     "data": {
      "text/html": [
       "<div>\n",
       "<style scoped>\n",
       "    .dataframe tbody tr th:only-of-type {\n",
       "        vertical-align: middle;\n",
       "    }\n",
       "\n",
       "    .dataframe tbody tr th {\n",
       "        vertical-align: top;\n",
       "    }\n",
       "\n",
       "    .dataframe thead th {\n",
       "        text-align: right;\n",
       "    }\n",
       "</style>\n",
       "<table border=\"1\" class=\"dataframe\">\n",
       "  <thead>\n",
       "    <tr style=\"text-align: right;\">\n",
       "      <th></th>\n",
       "      <th>auction_id</th>\n",
       "      <th>timestamp</th>\n",
       "      <th>creative_duration</th>\n",
       "      <th>creative_id</th>\n",
       "      <th>campaign_id</th>\n",
       "      <th>advertiser_id</th>\n",
       "      <th>placement_id</th>\n",
       "      <th>placement_language</th>\n",
       "      <th>website_id</th>\n",
       "      <th>referer_deep_three</th>\n",
       "      <th>ua_country</th>\n",
       "      <th>ua_os</th>\n",
       "      <th>ua_browser</th>\n",
       "      <th>ua_browser_version</th>\n",
       "      <th>ua_device</th>\n",
       "      <th>user_average_seconds_played</th>\n",
       "      <th>seconds_played</th>\n",
       "    </tr>\n",
       "  </thead>\n",
       "  <tbody>\n",
       "    <tr>\n",
       "      <th>0</th>\n",
       "      <td>0008b046-b675-4f51-8ad6-fe06e5d81f8e</td>\n",
       "      <td>2018-01-30T18:51:34</td>\n",
       "      <td>25</td>\n",
       "      <td>198280</td>\n",
       "      <td>210671</td>\n",
       "      <td>7109.0</td>\n",
       "      <td>47216</td>\n",
       "      <td>fr</td>\n",
       "      <td>31838</td>\n",
       "      <td>de/golf/publish</td>\n",
       "      <td>ch</td>\n",
       "      <td>Windows</td>\n",
       "      <td>Microsoft Edge</td>\n",
       "      <td>16.0</td>\n",
       "      <td>PersonalComputer</td>\n",
       "      <td>NaN</td>\n",
       "      <td>9</td>\n",
       "    </tr>\n",
       "    <tr>\n",
       "      <th>1</th>\n",
       "      <td>00095bac-8fec-48c8-a17b-8f3878359e1d</td>\n",
       "      <td>2018-01-30T01:01:23</td>\n",
       "      <td>29</td>\n",
       "      <td>195285</td>\n",
       "      <td>210074</td>\n",
       "      <td>2270.0</td>\n",
       "      <td>77249</td>\n",
       "      <td>fr</td>\n",
       "      <td>46416</td>\n",
       "      <td>com/vinepair/articles</td>\n",
       "      <td>uk</td>\n",
       "      <td>Windows</td>\n",
       "      <td>Chrome</td>\n",
       "      <td>64.0</td>\n",
       "      <td>PersonalComputer</td>\n",
       "      <td>NaN</td>\n",
       "      <td>8</td>\n",
       "    </tr>\n",
       "    <tr>\n",
       "      <th>2</th>\n",
       "      <td>000c4c0c-0789-4e50-8ba6-a4be920ab482</td>\n",
       "      <td>2018-01-30T20:18:19</td>\n",
       "      <td>60</td>\n",
       "      <td>201430</td>\n",
       "      <td>214063</td>\n",
       "      <td>2643.0</td>\n",
       "      <td>25817</td>\n",
       "      <td>fr</td>\n",
       "      <td>20824</td>\n",
       "      <td>co.uk/hastingsobserver/news</td>\n",
       "      <td>uk</td>\n",
       "      <td>iOS</td>\n",
       "      <td>Facebook App</td>\n",
       "      <td>NaN</td>\n",
       "      <td>Tablet</td>\n",
       "      <td>NaN</td>\n",
       "      <td>1</td>\n",
       "    </tr>\n",
       "    <tr>\n",
       "      <th>3</th>\n",
       "      <td>000db509-3350-4cd9-b60a-d506fbd31f29</td>\n",
       "      <td>2018-01-30T22:09:02</td>\n",
       "      <td>29</td>\n",
       "      <td>198262</td>\n",
       "      <td>215400</td>\n",
       "      <td>2244.0</td>\n",
       "      <td>86526</td>\n",
       "      <td>fr</td>\n",
       "      <td>39091</td>\n",
       "      <td>com/slate/news-and-politics</td>\n",
       "      <td>us</td>\n",
       "      <td>Windows</td>\n",
       "      <td>Chrome</td>\n",
       "      <td>63.0</td>\n",
       "      <td>PersonalComputer</td>\n",
       "      <td>18.166666</td>\n",
       "      <td>1</td>\n",
       "    </tr>\n",
       "    <tr>\n",
       "      <th>4</th>\n",
       "      <td>001300de-8eda-480f-bec8-4b46ef6117f2</td>\n",
       "      <td>2018-01-30T12:15:26</td>\n",
       "      <td>29</td>\n",
       "      <td>174590</td>\n",
       "      <td>184750</td>\n",
       "      <td>3617.0</td>\n",
       "      <td>85350</td>\n",
       "      <td>fr</td>\n",
       "      <td>14796</td>\n",
       "      <td>co.uk/independent/arts-entertainment</td>\n",
       "      <td>uk</td>\n",
       "      <td>Windows</td>\n",
       "      <td>Firefox</td>\n",
       "      <td>58.0</td>\n",
       "      <td>PersonalComputer</td>\n",
       "      <td>NaN</td>\n",
       "      <td>0</td>\n",
       "    </tr>\n",
       "  </tbody>\n",
       "</table>\n",
       "</div>"
      ],
      "text/plain": [
       "                             auction_id            timestamp  \\\n",
       "0  0008b046-b675-4f51-8ad6-fe06e5d81f8e  2018-01-30T18:51:34   \n",
       "1  00095bac-8fec-48c8-a17b-8f3878359e1d  2018-01-30T01:01:23   \n",
       "2  000c4c0c-0789-4e50-8ba6-a4be920ab482  2018-01-30T20:18:19   \n",
       "3  000db509-3350-4cd9-b60a-d506fbd31f29  2018-01-30T22:09:02   \n",
       "4  001300de-8eda-480f-bec8-4b46ef6117f2  2018-01-30T12:15:26   \n",
       "\n",
       "   creative_duration  creative_id  campaign_id  advertiser_id  placement_id  \\\n",
       "0                 25       198280       210671         7109.0         47216   \n",
       "1                 29       195285       210074         2270.0         77249   \n",
       "2                 60       201430       214063         2643.0         25817   \n",
       "3                 29       198262       215400         2244.0         86526   \n",
       "4                 29       174590       184750         3617.0         85350   \n",
       "\n",
       "  placement_language  website_id                    referer_deep_three  \\\n",
       "0                 fr       31838                       de/golf/publish   \n",
       "1                 fr       46416                 com/vinepair/articles   \n",
       "2                 fr       20824           co.uk/hastingsobserver/news   \n",
       "3                 fr       39091           com/slate/news-and-politics   \n",
       "4                 fr       14796  co.uk/independent/arts-entertainment   \n",
       "\n",
       "  ua_country    ua_os      ua_browser  ua_browser_version         ua_device  \\\n",
       "0         ch  Windows  Microsoft Edge                16.0  PersonalComputer   \n",
       "1         uk  Windows          Chrome                64.0  PersonalComputer   \n",
       "2         uk      iOS    Facebook App                 NaN            Tablet   \n",
       "3         us  Windows          Chrome                63.0  PersonalComputer   \n",
       "4         uk  Windows         Firefox                58.0  PersonalComputer   \n",
       "\n",
       "   user_average_seconds_played  seconds_played  \n",
       "0                          NaN               9  \n",
       "1                          NaN               8  \n",
       "2                          NaN               1  \n",
       "3                    18.166666               1  \n",
       "4                          NaN               0  "
      ]
     },
     "execution_count": 6,
     "metadata": {},
     "output_type": "execute_result"
    }
   ],
   "source": [
    "train[\"timestamp\"] = (train[\"timestamp\"]).apply(lambda x: datetime.datetime.fromtimestamp(x).isoformat())\n",
    "train.head()"
   ]
  },
  {
   "cell_type": "code",
   "execution_count": 7,
   "metadata": {},
   "outputs": [
    {
     "data": {
      "text/html": [
       "<div>\n",
       "<style scoped>\n",
       "    .dataframe tbody tr th:only-of-type {\n",
       "        vertical-align: middle;\n",
       "    }\n",
       "\n",
       "    .dataframe tbody tr th {\n",
       "        vertical-align: top;\n",
       "    }\n",
       "\n",
       "    .dataframe thead th {\n",
       "        text-align: right;\n",
       "    }\n",
       "</style>\n",
       "<table border=\"1\" class=\"dataframe\">\n",
       "  <thead>\n",
       "    <tr style=\"text-align: right;\">\n",
       "      <th></th>\n",
       "      <th>auction_id</th>\n",
       "      <th>timestamp</th>\n",
       "      <th>creative_duration</th>\n",
       "      <th>creative_id</th>\n",
       "      <th>campaign_id</th>\n",
       "      <th>advertiser_id</th>\n",
       "      <th>placement_id</th>\n",
       "      <th>placement_language</th>\n",
       "      <th>website_id</th>\n",
       "      <th>referer_deep_three</th>\n",
       "      <th>ua_country</th>\n",
       "      <th>ua_os</th>\n",
       "      <th>ua_browser</th>\n",
       "      <th>ua_browser_version</th>\n",
       "      <th>ua_device</th>\n",
       "      <th>user_average_seconds_played</th>\n",
       "    </tr>\n",
       "  </thead>\n",
       "  <tbody>\n",
       "    <tr>\n",
       "      <th>0</th>\n",
       "      <td>0001a52c-77b7-49e5-9e6f-0f13d0c4c065</td>\n",
       "      <td>2018-01-31T13:54:50</td>\n",
       "      <td>29</td>\n",
       "      <td>201701</td>\n",
       "      <td>214397</td>\n",
       "      <td>5500.0</td>\n",
       "      <td>66536</td>\n",
       "      <td>fr</td>\n",
       "      <td>39541</td>\n",
       "      <td>fr/leparisien/societe</td>\n",
       "      <td>fr</td>\n",
       "      <td>Android</td>\n",
       "      <td>Chrome Mobile</td>\n",
       "      <td>64.0</td>\n",
       "      <td>Tablet</td>\n",
       "      <td>22.0</td>\n",
       "    </tr>\n",
       "    <tr>\n",
       "      <th>1</th>\n",
       "      <td>000273fa-3ca0-4292-a57e-84edec163147</td>\n",
       "      <td>2018-01-31T17:56:35</td>\n",
       "      <td>21</td>\n",
       "      <td>199890</td>\n",
       "      <td>212176</td>\n",
       "      <td>1413.0</td>\n",
       "      <td>30466</td>\n",
       "      <td>fr</td>\n",
       "      <td>23288</td>\n",
       "      <td>com/elpais/internacional</td>\n",
       "      <td>us</td>\n",
       "      <td>iOS</td>\n",
       "      <td>Safari mobile</td>\n",
       "      <td>10.0</td>\n",
       "      <td>Phone</td>\n",
       "      <td>NaN</td>\n",
       "    </tr>\n",
       "    <tr>\n",
       "      <th>2</th>\n",
       "      <td>000307cf-c967-451c-a698-3a9f9f7afe4e</td>\n",
       "      <td>2018-01-31T20:15:42</td>\n",
       "      <td>29</td>\n",
       "      <td>202354</td>\n",
       "      <td>215274</td>\n",
       "      <td>9307.0</td>\n",
       "      <td>59626</td>\n",
       "      <td>fr</td>\n",
       "      <td>37824</td>\n",
       "      <td>com/indystar/story</td>\n",
       "      <td>us</td>\n",
       "      <td>Windows</td>\n",
       "      <td>Chrome</td>\n",
       "      <td>63.0</td>\n",
       "      <td>PersonalComputer</td>\n",
       "      <td>15.0</td>\n",
       "    </tr>\n",
       "    <tr>\n",
       "      <th>3</th>\n",
       "      <td>00034736-1879-427f-9d62-07142dac540f</td>\n",
       "      <td>2018-01-31T15:33:36</td>\n",
       "      <td>69</td>\n",
       "      <td>201862</td>\n",
       "      <td>214627</td>\n",
       "      <td>1328.0</td>\n",
       "      <td>67283</td>\n",
       "      <td>fr</td>\n",
       "      <td>41761</td>\n",
       "      <td>com/hkej/www2</td>\n",
       "      <td>hk</td>\n",
       "      <td>iOS</td>\n",
       "      <td>Facebook App</td>\n",
       "      <td>NaN</td>\n",
       "      <td>Phone</td>\n",
       "      <td>NaN</td>\n",
       "    </tr>\n",
       "    <tr>\n",
       "      <th>4</th>\n",
       "      <td>000560aa-3a06-46a0-9502-0c093b3bb327</td>\n",
       "      <td>2018-01-31T22:53:27</td>\n",
       "      <td>14</td>\n",
       "      <td>198848</td>\n",
       "      <td>211331</td>\n",
       "      <td>2168.0</td>\n",
       "      <td>46479</td>\n",
       "      <td>fr</td>\n",
       "      <td>31511</td>\n",
       "      <td>it/oggi/people</td>\n",
       "      <td>it</td>\n",
       "      <td>Android</td>\n",
       "      <td>Chrome Mobile</td>\n",
       "      <td>64.0</td>\n",
       "      <td>Phone</td>\n",
       "      <td>5.0</td>\n",
       "    </tr>\n",
       "  </tbody>\n",
       "</table>\n",
       "</div>"
      ],
      "text/plain": [
       "                             auction_id            timestamp  \\\n",
       "0  0001a52c-77b7-49e5-9e6f-0f13d0c4c065  2018-01-31T13:54:50   \n",
       "1  000273fa-3ca0-4292-a57e-84edec163147  2018-01-31T17:56:35   \n",
       "2  000307cf-c967-451c-a698-3a9f9f7afe4e  2018-01-31T20:15:42   \n",
       "3  00034736-1879-427f-9d62-07142dac540f  2018-01-31T15:33:36   \n",
       "4  000560aa-3a06-46a0-9502-0c093b3bb327  2018-01-31T22:53:27   \n",
       "\n",
       "   creative_duration  creative_id  campaign_id  advertiser_id  placement_id  \\\n",
       "0                 29       201701       214397         5500.0         66536   \n",
       "1                 21       199890       212176         1413.0         30466   \n",
       "2                 29       202354       215274         9307.0         59626   \n",
       "3                 69       201862       214627         1328.0         67283   \n",
       "4                 14       198848       211331         2168.0         46479   \n",
       "\n",
       "  placement_language  website_id        referer_deep_three ua_country  \\\n",
       "0                 fr       39541     fr/leparisien/societe         fr   \n",
       "1                 fr       23288  com/elpais/internacional         us   \n",
       "2                 fr       37824        com/indystar/story         us   \n",
       "3                 fr       41761             com/hkej/www2         hk   \n",
       "4                 fr       31511            it/oggi/people         it   \n",
       "\n",
       "     ua_os     ua_browser  ua_browser_version         ua_device  \\\n",
       "0  Android  Chrome Mobile                64.0            Tablet   \n",
       "1      iOS  Safari mobile                10.0             Phone   \n",
       "2  Windows         Chrome                63.0  PersonalComputer   \n",
       "3      iOS   Facebook App                 NaN             Phone   \n",
       "4  Android  Chrome Mobile                64.0             Phone   \n",
       "\n",
       "   user_average_seconds_played  \n",
       "0                         22.0  \n",
       "1                          NaN  \n",
       "2                         15.0  \n",
       "3                          NaN  \n",
       "4                          5.0  "
      ]
     },
     "execution_count": 7,
     "metadata": {},
     "output_type": "execute_result"
    }
   ],
   "source": [
    "test[\"timestamp\"] = (test[\"timestamp\"]).apply(lambda x: datetime.datetime.fromtimestamp(x).isoformat())\n",
    "test.head()"
   ]
  },
  {
   "cell_type": "code",
   "execution_count": 9,
   "metadata": {
    "collapsed": true
   },
   "outputs": [],
   "source": [
    "train.sort_values(by='timestamp', inplace=True)"
   ]
  },
  {
   "cell_type": "code",
   "execution_count": 10,
   "metadata": {
    "collapsed": true
   },
   "outputs": [],
   "source": [
    "test.sort_values(by='timestamp', inplace=True)"
   ]
  },
  {
   "cell_type": "code",
   "execution_count": 8,
   "metadata": {},
   "outputs": [
    {
     "data": {
      "text/plain": [
       "array(['fr', 'de', 'en', 'es', 'pt', 'it', nan], dtype=object)"
      ]
     },
     "execution_count": 8,
     "metadata": {},
     "output_type": "execute_result"
    }
   ],
   "source": [
    "train['placement_language'].unique()"
   ]
  },
  {
   "cell_type": "code",
   "execution_count": 9,
   "metadata": {},
   "outputs": [
    {
     "data": {
      "text/plain": [
       "array(['fr', 'pt', 'en', 'es', nan, 'de', 'it'], dtype=object)"
      ]
     },
     "execution_count": 9,
     "metadata": {},
     "output_type": "execute_result"
    }
   ],
   "source": [
    "test['placement_language'].unique()"
   ]
  },
  {
   "cell_type": "markdown",
   "metadata": {},
   "source": [
    "### get hours, minutes and seconds"
   ]
  },
  {
   "cell_type": "code",
   "execution_count": 11,
   "metadata": {},
   "outputs": [
    {
     "data": {
      "text/html": [
       "<div>\n",
       "<style scoped>\n",
       "    .dataframe tbody tr th:only-of-type {\n",
       "        vertical-align: middle;\n",
       "    }\n",
       "\n",
       "    .dataframe tbody tr th {\n",
       "        vertical-align: top;\n",
       "    }\n",
       "\n",
       "    .dataframe thead th {\n",
       "        text-align: right;\n",
       "    }\n",
       "</style>\n",
       "<table border=\"1\" class=\"dataframe\">\n",
       "  <thead>\n",
       "    <tr style=\"text-align: right;\">\n",
       "      <th></th>\n",
       "      <th>h</th>\n",
       "      <th>min</th>\n",
       "      <th>sec</th>\n",
       "    </tr>\n",
       "  </thead>\n",
       "  <tbody>\n",
       "    <tr>\n",
       "      <th>283628</th>\n",
       "      <td>01</td>\n",
       "      <td>00</td>\n",
       "      <td>00</td>\n",
       "    </tr>\n",
       "    <tr>\n",
       "      <th>1685768</th>\n",
       "      <td>01</td>\n",
       "      <td>00</td>\n",
       "      <td>00</td>\n",
       "    </tr>\n",
       "    <tr>\n",
       "      <th>596923</th>\n",
       "      <td>01</td>\n",
       "      <td>00</td>\n",
       "      <td>00</td>\n",
       "    </tr>\n",
       "    <tr>\n",
       "      <th>1698725</th>\n",
       "      <td>01</td>\n",
       "      <td>00</td>\n",
       "      <td>00</td>\n",
       "    </tr>\n",
       "    <tr>\n",
       "      <th>795912</th>\n",
       "      <td>01</td>\n",
       "      <td>00</td>\n",
       "      <td>00</td>\n",
       "    </tr>\n",
       "  </tbody>\n",
       "</table>\n",
       "</div>"
      ],
      "text/plain": [
       "          h min sec\n",
       "283628   01  00  00\n",
       "1685768  01  00  00\n",
       "596923   01  00  00\n",
       "1698725  01  00  00\n",
       "795912   01  00  00"
      ]
     },
     "execution_count": 11,
     "metadata": {},
     "output_type": "execute_result"
    }
   ],
   "source": [
    "df_time_train = pd.DataFrame()\n",
    "df_time_train['h'], df_time_train['min'],df_time_train['sec'] = train['timestamp'].map(lambda x:x.split(\"T\")[1]).map(lambda x:x.split(\":\")).str\n",
    "df_time_train.head()"
   ]
  },
  {
   "cell_type": "code",
   "execution_count": 12,
   "metadata": {},
   "outputs": [
    {
     "data": {
      "text/html": [
       "<div>\n",
       "<style scoped>\n",
       "    .dataframe tbody tr th:only-of-type {\n",
       "        vertical-align: middle;\n",
       "    }\n",
       "\n",
       "    .dataframe tbody tr th {\n",
       "        vertical-align: top;\n",
       "    }\n",
       "\n",
       "    .dataframe thead th {\n",
       "        text-align: right;\n",
       "    }\n",
       "</style>\n",
       "<table border=\"1\" class=\"dataframe\">\n",
       "  <thead>\n",
       "    <tr style=\"text-align: right;\">\n",
       "      <th></th>\n",
       "      <th>h</th>\n",
       "      <th>min</th>\n",
       "      <th>sec</th>\n",
       "    </tr>\n",
       "  </thead>\n",
       "  <tbody>\n",
       "    <tr>\n",
       "      <th>925405</th>\n",
       "      <td>01</td>\n",
       "      <td>00</td>\n",
       "      <td>00</td>\n",
       "    </tr>\n",
       "    <tr>\n",
       "      <th>876335</th>\n",
       "      <td>01</td>\n",
       "      <td>00</td>\n",
       "      <td>00</td>\n",
       "    </tr>\n",
       "    <tr>\n",
       "      <th>387037</th>\n",
       "      <td>01</td>\n",
       "      <td>00</td>\n",
       "      <td>00</td>\n",
       "    </tr>\n",
       "    <tr>\n",
       "      <th>51008</th>\n",
       "      <td>01</td>\n",
       "      <td>00</td>\n",
       "      <td>00</td>\n",
       "    </tr>\n",
       "    <tr>\n",
       "      <th>660002</th>\n",
       "      <td>01</td>\n",
       "      <td>00</td>\n",
       "      <td>00</td>\n",
       "    </tr>\n",
       "  </tbody>\n",
       "</table>\n",
       "</div>"
      ],
      "text/plain": [
       "         h min sec\n",
       "925405  01  00  00\n",
       "876335  01  00  00\n",
       "387037  01  00  00\n",
       "51008   01  00  00\n",
       "660002  01  00  00"
      ]
     },
     "execution_count": 12,
     "metadata": {},
     "output_type": "execute_result"
    }
   ],
   "source": [
    "df_time_test = pd.DataFrame()\n",
    "df_time_test['h'], df_time_test['min'],df_time_test['sec'] = test['timestamp'].map(lambda x:x.split(\"T\")[1]).map(lambda x:x.split(\":\")).str\n",
    "df_time_test.head()"
   ]
  },
  {
   "cell_type": "code",
   "execution_count": 13,
   "metadata": {},
   "outputs": [
    {
     "data": {
      "text/plain": [
       "array(['2018-01-30', '2018-01-31'], dtype=object)"
      ]
     },
     "execution_count": 13,
     "metadata": {},
     "output_type": "execute_result"
    }
   ],
   "source": [
    "train['timestamp'].map(lambda x:x.split(\"T\")[0]).unique()"
   ]
  },
  {
   "cell_type": "code",
   "execution_count": 14,
   "metadata": {},
   "outputs": [
    {
     "data": {
      "text/plain": [
       "array(['2018-01-31', '2018-02-01'], dtype=object)"
      ]
     },
     "execution_count": 14,
     "metadata": {},
     "output_type": "execute_result"
    }
   ],
   "source": [
    "test['timestamp'].map(lambda x:x.split(\"T\")[0]).unique()"
   ]
  },
  {
   "cell_type": "code",
   "execution_count": 15,
   "metadata": {
    "collapsed": true
   },
   "outputs": [],
   "source": [
    "train = pd.concat([train.drop([\"timestamp\"],axis=1),df_time_train],axis=1)\n",
    "test = pd.concat([test.drop([\"timestamp\"],axis=1),df_time_test],axis=1)"
   ]
  },
  {
   "cell_type": "code",
   "execution_count": 16,
   "metadata": {},
   "outputs": [
    {
     "data": {
      "text/plain": [
       "<matplotlib.axes._subplots.AxesSubplot at 0x1a254869e8>"
      ]
     },
     "execution_count": 16,
     "metadata": {},
     "output_type": "execute_result"
    },
    {
     "data": {
      "image/png": "[encoded data removed]",
      "text/plain": [
       "<matplotlib.figure.Figure at 0x1a2548ea90>"
      ]
     },
     "metadata": {},
     "output_type": "display_data"
    }
   ],
   "source": [
    "sns.distplot(train[\"seconds_played\"])"
   ]
  },
  {
   "cell_type": "code",
   "execution_count": 16,
   "metadata": {},
   "outputs": [
    {
     "data": {
      "text/html": [
       "<div>\n",
       "<style scoped>\n",
       "    .dataframe tbody tr th:only-of-type {\n",
       "        vertical-align: middle;\n",
       "    }\n",
       "\n",
       "    .dataframe tbody tr th {\n",
       "        vertical-align: top;\n",
       "    }\n",
       "\n",
       "    .dataframe thead th {\n",
       "        text-align: right;\n",
       "    }\n",
       "</style>\n",
       "<table border=\"1\" class=\"dataframe\">\n",
       "  <thead>\n",
       "    <tr style=\"text-align: right;\">\n",
       "      <th></th>\n",
       "      <th>auction_id</th>\n",
       "      <th>creative_duration</th>\n",
       "      <th>creative_id</th>\n",
       "      <th>campaign_id</th>\n",
       "      <th>advertiser_id</th>\n",
       "      <th>placement_id</th>\n",
       "      <th>placement_language</th>\n",
       "      <th>website_id</th>\n",
       "      <th>referer_deep_three</th>\n",
       "      <th>ua_country</th>\n",
       "      <th>ua_os</th>\n",
       "      <th>ua_browser</th>\n",
       "      <th>ua_browser_version</th>\n",
       "      <th>ua_device</th>\n",
       "      <th>user_average_seconds_played</th>\n",
       "      <th>seconds_played</th>\n",
       "      <th>h</th>\n",
       "      <th>min</th>\n",
       "      <th>sec</th>\n",
       "    </tr>\n",
       "  </thead>\n",
       "  <tbody>\n",
       "    <tr>\n",
       "      <th>0</th>\n",
       "      <td>0008b046-b675-4f51-8ad6-fe06e5d81f8e</td>\n",
       "      <td>25</td>\n",
       "      <td>198280</td>\n",
       "      <td>210671</td>\n",
       "      <td>7109.0</td>\n",
       "      <td>47216</td>\n",
       "      <td>fr</td>\n",
       "      <td>31838</td>\n",
       "      <td>de/golf/publish</td>\n",
       "      <td>ch</td>\n",
       "      <td>Windows</td>\n",
       "      <td>Microsoft Edge</td>\n",
       "      <td>16.0</td>\n",
       "      <td>PersonalComputer</td>\n",
       "      <td>NaN</td>\n",
       "      <td>9</td>\n",
       "      <td>18</td>\n",
       "      <td>51</td>\n",
       "      <td>34</td>\n",
       "    </tr>\n",
       "    <tr>\n",
       "      <th>1</th>\n",
       "      <td>00095bac-8fec-48c8-a17b-8f3878359e1d</td>\n",
       "      <td>29</td>\n",
       "      <td>195285</td>\n",
       "      <td>210074</td>\n",
       "      <td>2270.0</td>\n",
       "      <td>77249</td>\n",
       "      <td>fr</td>\n",
       "      <td>46416</td>\n",
       "      <td>com/vinepair/articles</td>\n",
       "      <td>uk</td>\n",
       "      <td>Windows</td>\n",
       "      <td>Chrome</td>\n",
       "      <td>64.0</td>\n",
       "      <td>PersonalComputer</td>\n",
       "      <td>NaN</td>\n",
       "      <td>8</td>\n",
       "      <td>01</td>\n",
       "      <td>01</td>\n",
       "      <td>23</td>\n",
       "    </tr>\n",
       "    <tr>\n",
       "      <th>2</th>\n",
       "      <td>000c4c0c-0789-4e50-8ba6-a4be920ab482</td>\n",
       "      <td>60</td>\n",
       "      <td>201430</td>\n",
       "      <td>214063</td>\n",
       "      <td>2643.0</td>\n",
       "      <td>25817</td>\n",
       "      <td>fr</td>\n",
       "      <td>20824</td>\n",
       "      <td>co.uk/hastingsobserver/news</td>\n",
       "      <td>uk</td>\n",
       "      <td>iOS</td>\n",
       "      <td>Facebook App</td>\n",
       "      <td>NaN</td>\n",
       "      <td>Tablet</td>\n",
       "      <td>NaN</td>\n",
       "      <td>1</td>\n",
       "      <td>20</td>\n",
       "      <td>18</td>\n",
       "      <td>19</td>\n",
       "    </tr>\n",
       "    <tr>\n",
       "      <th>3</th>\n",
       "      <td>000db509-3350-4cd9-b60a-d506fbd31f29</td>\n",
       "      <td>29</td>\n",
       "      <td>198262</td>\n",
       "      <td>215400</td>\n",
       "      <td>2244.0</td>\n",
       "      <td>86526</td>\n",
       "      <td>fr</td>\n",
       "      <td>39091</td>\n",
       "      <td>com/slate/news-and-politics</td>\n",
       "      <td>us</td>\n",
       "      <td>Windows</td>\n",
       "      <td>Chrome</td>\n",
       "      <td>63.0</td>\n",
       "      <td>PersonalComputer</td>\n",
       "      <td>18.166666</td>\n",
       "      <td>1</td>\n",
       "      <td>22</td>\n",
       "      <td>09</td>\n",
       "      <td>02</td>\n",
       "    </tr>\n",
       "    <tr>\n",
       "      <th>4</th>\n",
       "      <td>001300de-8eda-480f-bec8-4b46ef6117f2</td>\n",
       "      <td>29</td>\n",
       "      <td>174590</td>\n",
       "      <td>184750</td>\n",
       "      <td>3617.0</td>\n",
       "      <td>85350</td>\n",
       "      <td>fr</td>\n",
       "      <td>14796</td>\n",
       "      <td>co.uk/independent/arts-entertainment</td>\n",
       "      <td>uk</td>\n",
       "      <td>Windows</td>\n",
       "      <td>Firefox</td>\n",
       "      <td>58.0</td>\n",
       "      <td>PersonalComputer</td>\n",
       "      <td>NaN</td>\n",
       "      <td>0</td>\n",
       "      <td>12</td>\n",
       "      <td>15</td>\n",
       "      <td>26</td>\n",
       "    </tr>\n",
       "  </tbody>\n",
       "</table>\n",
       "</div>"
      ],
      "text/plain": [
       "                             auction_id  creative_duration  creative_id  \\\n",
       "0  0008b046-b675-4f51-8ad6-fe06e5d81f8e                 25       198280   \n",
       "1  00095bac-8fec-48c8-a17b-8f3878359e1d                 29       195285   \n",
       "2  000c4c0c-0789-4e50-8ba6-a4be920ab482                 60       201430   \n",
       "3  000db509-3350-4cd9-b60a-d506fbd31f29                 29       198262   \n",
       "4  001300de-8eda-480f-bec8-4b46ef6117f2                 29       174590   \n",
       "\n",
       "   campaign_id  advertiser_id  placement_id placement_language  website_id  \\\n",
       "0       210671         7109.0         47216                 fr       31838   \n",
       "1       210074         2270.0         77249                 fr       46416   \n",
       "2       214063         2643.0         25817                 fr       20824   \n",
       "3       215400         2244.0         86526                 fr       39091   \n",
       "4       184750         3617.0         85350                 fr       14796   \n",
       "\n",
       "                     referer_deep_three ua_country    ua_os      ua_browser  \\\n",
       "0                       de/golf/publish         ch  Windows  Microsoft Edge   \n",
       "1                 com/vinepair/articles         uk  Windows          Chrome   \n",
       "2           co.uk/hastingsobserver/news         uk      iOS    Facebook App   \n",
       "3           com/slate/news-and-politics         us  Windows          Chrome   \n",
       "4  co.uk/independent/arts-entertainment         uk  Windows         Firefox   \n",
       "\n",
       "   ua_browser_version         ua_device  user_average_seconds_played  \\\n",
       "0                16.0  PersonalComputer                          NaN   \n",
       "1                64.0  PersonalComputer                          NaN   \n",
       "2                 NaN            Tablet                          NaN   \n",
       "3                63.0  PersonalComputer                    18.166666   \n",
       "4                58.0  PersonalComputer                          NaN   \n",
       "\n",
       "   seconds_played   h min sec  \n",
       "0               9  18  51  34  \n",
       "1               8  01  01  23  \n",
       "2               1  20  18  19  \n",
       "3               1  22  09  02  \n",
       "4               0  12  15  26  "
      ]
     },
     "execution_count": 16,
     "metadata": {},
     "output_type": "execute_result"
    }
   ],
   "source": [
    "train.head()"
   ]
  },
  {
   "cell_type": "markdown",
   "metadata": {},
   "source": [
    "### Fill all the Null values "
   ]
  },
  {
   "cell_type": "code",
   "execution_count": 17,
   "metadata": {},
   "outputs": [
    {
     "data": {
      "text/plain": [
       "auction_id                     2399960\n",
       "creative_duration              2399960\n",
       "creative_id                    2399960\n",
       "campaign_id                    2399960\n",
       "advertiser_id                  2368348\n",
       "placement_id                   2399960\n",
       "placement_language             2399780\n",
       "website_id                     2399960\n",
       "referer_deep_three             2398504\n",
       "ua_country                     2399948\n",
       "ua_os                          2399960\n",
       "ua_browser                     2399960\n",
       "ua_browser_version             2399960\n",
       "ua_device                      2399930\n",
       "user_average_seconds_played     934902\n",
       "seconds_played                 2399960\n",
       "h                              2399960\n",
       "min                            2399960\n",
       "sec                            2399960\n",
       "dtype: int64"
      ]
     },
     "execution_count": 17,
     "metadata": {},
     "output_type": "execute_result"
    }
   ],
   "source": [
    "train.dropna(subset=[\"ua_browser_version\"]).count()"
   ]
  },
  {
   "cell_type": "code",
   "execution_count": 18,
   "metadata": {},
   "outputs": [
    {
     "data": {
      "text/plain": [
       "auction_id                     800478\n",
       "creative_duration              800478\n",
       "creative_id                    800478\n",
       "campaign_id                    800478\n",
       "advertiser_id                  792045\n",
       "placement_id                   800478\n",
       "placement_language             800293\n",
       "website_id                     800478\n",
       "referer_deep_three             799006\n",
       "ua_country                     800473\n",
       "ua_os                          800478\n",
       "ua_browser                     800478\n",
       "ua_browser_version             800478\n",
       "ua_device                      800467\n",
       "user_average_seconds_played    306560\n",
       "h                              800478\n",
       "min                            800478\n",
       "sec                            800478\n",
       "dtype: int64"
      ]
     },
     "execution_count": 18,
     "metadata": {},
     "output_type": "execute_result"
    }
   ],
   "source": [
    "test.dropna(subset=[\"ua_browser_version\"]).count()"
   ]
  },
  {
   "cell_type": "code",
   "execution_count": 19,
   "metadata": {
    "collapsed": true
   },
   "outputs": [],
   "source": [
    "from sklearn.preprocessing import Imputer\n",
    "ip = Imputer(missing_values='NaN', strategy=\"most_frequent\",axis=0)\n",
    "train[\"ua_browser_version\"] = ip.fit_transform(train[\"ua_browser_version\"].values.reshape(-1, 1))\n",
    "test[\"ua_browser_version\"] = ip.fit_transform(test[\"ua_browser_version\"].values.reshape(-1, 1))\n",
    "\n",
    "train['advertiser_id'] = ip.fit_transform(train['advertiser_id'].values.reshape(-1,1))\n",
    "test['advertiser_id'] = ip.fit_transform(test['advertiser_id'].values.reshape(-1,1))\n",
    "\n",
    "train[\"user_average_seconds_played\"] = train[\"user_average_seconds_played\"].fillna(np.mean(train[\"user_average_seconds_played\"]))\n",
    "test[\"user_average_seconds_played\"] = test[\"user_average_seconds_played\"].fillna(np.mean(test[\"user_average_seconds_played\"]))"
   ]
  },
  {
   "cell_type": "code",
   "execution_count": 20,
   "metadata": {},
   "outputs": [
    {
     "name": "stderr",
     "output_type": "stream",
     "text": [
      "/Users/lingjin/anaconda3/lib/python3.5/site-packages/ipykernel_launcher.py:1: SettingWithCopyWarning: \n",
      "A value is trying to be set on a copy of a slice from a DataFrame\n",
      "\n",
      "See the caveats in the documentation: http://pandas.pydata.org/pandas-docs/stable/indexing.html#indexing-view-versus-copy\n",
      "  \"\"\"Entry point for launching an IPython kernel.\n",
      "/Users/lingjin/anaconda3/lib/python3.5/site-packages/ipykernel_launcher.py:2: SettingWithCopyWarning: \n",
      "A value is trying to be set on a copy of a slice from a DataFrame\n",
      "\n",
      "See the caveats in the documentation: http://pandas.pydata.org/pandas-docs/stable/indexing.html#indexing-view-versus-copy\n",
      "  \n"
     ]
    }
   ],
   "source": [
    "train[\"user_average_seconds_played\"][train[\"user_average_seconds_played\"] == 0] = np.mean(train[\"user_average_seconds_played\"])\n",
    "test[\"user_average_seconds_played\"][test[\"user_average_seconds_played\"] == 0] = np.mean(test[\"user_average_seconds_played\"])"
   ]
  },
  {
   "cell_type": "code",
   "execution_count": 21,
   "metadata": {
    "collapsed": true
   },
   "outputs": [],
   "source": [
    "train[\"referer_deep_three\"] = train[\"referer_deep_three\"].fillna('unknown/unknown/unknown')\n",
    "test[\"referer_deep_three\"] = test[\"referer_deep_three\"].fillna('unknown/unknown/unknown')"
   ]
  },
  {
   "cell_type": "code",
   "execution_count": 22,
   "metadata": {
    "collapsed": true
   },
   "outputs": [],
   "source": [
    "# train.iloc[train.loc[:,pd.isnull(train).all()]] = \"UNKNOWN\"\n",
    "# test.iloc[test.loc[:,pd.isnull(test).all()]] = \"UNKNOWN\"\n",
    "train = train.replace(np.nan, 'UNKNOWN', regex=True)\n",
    "test = test.replace(np.nan, 'UNKNOWN', regex=True)"
   ]
  },
  {
   "cell_type": "code",
   "execution_count": 23,
   "metadata": {},
   "outputs": [
    {
     "data": {
      "text/plain": [
       "False"
      ]
     },
     "execution_count": 23,
     "metadata": {},
     "output_type": "execute_result"
    }
   ],
   "source": [
    "train.isnull().values.any()"
   ]
  },
  {
   "cell_type": "code",
   "execution_count": 41,
   "metadata": {},
   "outputs": [
    {
     "data": {
      "text/plain": [
       "False"
      ]
     },
     "execution_count": 41,
     "metadata": {},
     "output_type": "execute_result"
    }
   ],
   "source": [
    "test.isnull().values.any()"
   ]
  },
  {
   "cell_type": "markdown",
   "metadata": {},
   "source": [
    "### The part for filling null values is done and the following is to convert the category to the numeric one "
   ]
  },
  {
   "cell_type": "code",
   "execution_count": 23,
   "metadata": {
    "collapsed": true
   },
   "outputs": [],
   "source": [
    "from sklearn.preprocessing import LabelEncoder"
   ]
  },
  {
   "cell_type": "code",
   "execution_count": 24,
   "metadata": {
    "collapsed": true
   },
   "outputs": [],
   "source": [
    "def get_unique(train_, test_):\n",
    "    for i in test_:\n",
    "        if i not in train_:\n",
    "            train_ = np.append(train_,i)\n",
    "    return train_        "
   ]
  },
  {
   "cell_type": "code",
   "execution_count": 25,
   "metadata": {
    "collapsed": true
   },
   "outputs": [],
   "source": [
    "# to separate the column 'referer_deep_three' to three parts \n",
    "df_referer_train = pd.DataFrame()\n",
    "df_referer_train['A'], df_referer_train['B'],df_referer_train['C'] = train['referer_deep_three'].str.split('/').str\n",
    "train = pd.concat([train.drop([\"referer_deep_three\"],axis=1),df_referer_train],axis=1)\n",
    "\n",
    "df_referer_test = pd.DataFrame()\n",
    "df_referer_test['A'], df_referer_test['B'],df_referer_test['C'] = test['referer_deep_three'].str.split('/').str\n",
    "test = pd.concat([test.drop([\"referer_deep_three\"],axis=1),df_referer_test],axis=1)"
   ]
  },
  {
   "cell_type": "code",
   "execution_count": 38,
   "metadata": {
    "collapsed": true
   },
   "outputs": [],
   "source": [
    "train['C'] = train['C'].fillna('unknown') \n",
    "test['C'] = test['C'].fillna('unknown') \n",
    "train['B'] = train['B'].fillna('unknown') \n",
    "test['B'] = test['B'].fillna('unknown') "
   ]
  },
  {
   "cell_type": "code",
   "execution_count": 39,
   "metadata": {
    "collapsed": true
   },
   "outputs": [],
   "source": [
    "list_ = ['A','B','C']\n",
    "for i in list_:\n",
    "    all_ = get_unique(train[i].unique(), test[i].unique())\n",
    "    le = LabelEncoder()\n",
    "    le.fit(all_)\n",
    "    train_1 = pd.DataFrame()\n",
    "    test_1 = pd.DataFrame()\n",
    "    train_1[i] = le.transform(train[i]) \n",
    "    test_1[i] = le.transform(test[i]) \n",
    "    train = pd.concat([train.drop([i],axis=1),train_1],axis=1)\n",
    "    test = pd.concat([test.drop([i],axis=1),test_1],axis=1)"
   ]
  },
  {
   "cell_type": "code",
   "execution_count": null,
   "metadata": {
    "collapsed": true
   },
   "outputs": [],
   "source": [
    "train.info()"
   ]
  },
  {
   "cell_type": "code",
   "execution_count": 40,
   "metadata": {},
   "outputs": [
    {
     "name": "stdout",
     "output_type": "stream",
     "text": [
      "[4 1 2 3 6 5 0]\n",
      "[4 6 2 3 0 1 5]\n"
     ]
    }
   ],
   "source": [
    "print(train['placement_language'].unique()) \n",
    "print(test['placement_language'].unique())"
   ]
  },
  {
   "cell_type": "code",
   "execution_count": 41,
   "metadata": {
    "collapsed": true,
    "scrolled": true
   },
   "outputs": [],
   "source": [
    "#placement_language\n",
    "all_placement_language = get_unique(train['placement_language'].unique(), test['placement_language'].unique())\n",
    "le = LabelEncoder()\n",
    "le.fit(all_placement_language)\n",
    "train_1 = pd.DataFrame()\n",
    "test_1 = pd.DataFrame()\n",
    "train_1['placement_language'] = le.transform(train['placement_language']) \n",
    "test_1['placement_language'] = le.transform(test['placement_language']) \n",
    "train = pd.concat([train.drop([\"placement_language\"],axis=1),train_1],axis=1)\n",
    "test = pd.concat([test.drop([\"placement_language\"],axis=1),test_1],axis=1)"
   ]
  },
  {
   "cell_type": "code",
   "execution_count": null,
   "metadata": {
    "collapsed": true
   },
   "outputs": [],
   "source": [
    "print(train['placement_language'].unique()) \n",
    "print(test['placement_language'].unique())"
   ]
  },
  {
   "cell_type": "code",
   "execution_count": 42,
   "metadata": {
    "collapsed": true
   },
   "outputs": [],
   "source": [
    "#ua_country\n",
    "all_ua_country = get_unique(train['ua_country'].unique(), test['ua_country'].unique())\n",
    "le = LabelEncoder()\n",
    "le.fit(all_ua_country)\n",
    "train_1 = pd.DataFrame()\n",
    "test_1 = pd.DataFrame()\n",
    "train_1['ua_country'] = le.transform(train['ua_country']) \n",
    "test_1['ua_country'] = le.transform(test['ua_country']) \n",
    "train = pd.concat([train.drop([\"ua_country\"],axis=1),train_1],axis=1)\n",
    "test = pd.concat([test.drop([\"ua_country\"],axis=1),test_1],axis=1)"
   ]
  },
  {
   "cell_type": "code",
   "execution_count": 43,
   "metadata": {
    "collapsed": true
   },
   "outputs": [],
   "source": [
    "#ua_os\n",
    "all_ua_os = get_unique(train['ua_os'].unique(), test['ua_os'].unique())\n",
    "le = LabelEncoder()\n",
    "le.fit(all_ua_os)\n",
    "train_1 = pd.DataFrame()\n",
    "test_1 = pd.DataFrame()\n",
    "train_1['ua_os'] = le.transform(train['ua_os']) \n",
    "test_1['ua_os'] = le.transform(test['ua_os']) \n",
    "train = pd.concat([train.drop([\"ua_os\"],axis=1),train_1],axis=1)\n",
    "test = pd.concat([test.drop([\"ua_os\"],axis=1),test_1],axis=1)"
   ]
  },
  {
   "cell_type": "code",
   "execution_count": 44,
   "metadata": {
    "collapsed": true
   },
   "outputs": [],
   "source": [
    "#ua_browser\n",
    "all_ua_browser = get_unique(train['ua_browser'].unique(), test['ua_browser'].unique())\n",
    "le = LabelEncoder()\n",
    "le.fit(all_ua_browser)\n",
    "train_1 = pd.DataFrame()\n",
    "test_1 = pd.DataFrame()\n",
    "train_1['ua_browser'] = le.transform(train['ua_browser']) \n",
    "test_1['ua_browser'] = le.transform(test['ua_browser']) \n",
    "train = pd.concat([train.drop([\"ua_browser\"],axis=1),train_1],axis=1)\n",
    "test = pd.concat([test.drop([\"ua_browser\"],axis=1),test_1],axis=1)"
   ]
  },
  {
   "cell_type": "code",
   "execution_count": 45,
   "metadata": {
    "collapsed": true
   },
   "outputs": [],
   "source": [
    "#ua_device\n",
    "all_ua_device = get_unique(train['ua_device'].unique(), test['ua_device'].unique())\n",
    "le = LabelEncoder()\n",
    "le.fit(all_ua_device)\n",
    "train_1 = pd.DataFrame()\n",
    "test_1 = pd.DataFrame()\n",
    "train_1['ua_device'] = le.transform(train['ua_device']) \n",
    "test_1['ua_device'] = le.transform(test['ua_device']) \n",
    "train = pd.concat([train.drop([\"ua_device\"],axis=1),train_1],axis=1)\n",
    "test = pd.concat([test.drop([\"ua_device\"],axis=1),test_1],axis=1)"
   ]
  },
  {
   "cell_type": "code",
   "execution_count": 46,
   "metadata": {},
   "outputs": [
    {
     "name": "stdout",
     "output_type": "stream",
     "text": [
      "<class 'pandas.core.frame.DataFrame'>\n",
      "Int64Index: 3000000 entries, 0 to 2999999\n",
      "Data columns (total 21 columns):\n",
      "auction_id                     object\n",
      "creative_duration              int64\n",
      "creative_id                    int64\n",
      "campaign_id                    int64\n",
      "advertiser_id                  float64\n",
      "placement_id                   int64\n",
      "website_id                     int64\n",
      "ua_browser_version             float64\n",
      "user_average_seconds_played    float64\n",
      "seconds_played                 int64\n",
      "h                              object\n",
      "min                            object\n",
      "sec                            object\n",
      "A                              int64\n",
      "B                              int64\n",
      "C                              int64\n",
      "placement_language             int64\n",
      "ua_country                     int64\n",
      "ua_os                          int64\n",
      "ua_browser                     int64\n",
      "ua_device                      int64\n",
      "dtypes: float64(3), int64(14), object(4)\n",
      "memory usage: 503.5+ MB\n"
     ]
    }
   ],
   "source": [
    "train.info()"
   ]
  },
  {
   "cell_type": "code",
   "execution_count": null,
   "metadata": {
    "collapsed": true
   },
   "outputs": [],
   "source": [
    "test.info()"
   ]
  },
  {
   "cell_type": "code",
   "execution_count": 48,
   "metadata": {
    "collapsed": true
   },
   "outputs": [],
   "source": [
    "#train.to_csv('train_feature.csv', index=False)"
   ]
  },
  {
   "cell_type": "code",
   "execution_count": 49,
   "metadata": {
    "collapsed": true
   },
   "outputs": [],
   "source": [
    "#test.to_csv('test_feature.csv', index=False)"
   ]
  },
  {
   "cell_type": "code",
   "execution_count": 44,
   "metadata": {
    "collapsed": true
   },
   "outputs": [],
   "source": [
    "X = train.drop([\"auction_id\",\"seconds_played\",\"C\"],axis=1)\n",
    "y = train[\"seconds_played\"]\n",
    "#test_x = test.drop(columns=[\"auction_id\",\"referer_deep_three\",\"timestamp\"])"
   ]
  },
  {
   "cell_type": "code",
   "execution_count": 45,
   "metadata": {
    "collapsed": true
   },
   "outputs": [],
   "source": [
    "from sklearn.model_selection import train_test_split\n",
    "X_train, X_valid, y_train, y_valid = train_test_split( X, y, test_size=0.33, random_state=42)"
   ]
  },
  {
   "cell_type": "code",
   "execution_count": 46,
   "metadata": {
    "collapsed": true
   },
   "outputs": [],
   "source": [
    "X_test = test.drop([\"auction_id\",\"C\"],axis=1)"
   ]
  },
  {
   "cell_type": "markdown",
   "metadata": {},
   "source": [
    "### Evaluation metric and models"
   ]
  },
  {
   "cell_type": "code",
   "execution_count": null,
   "metadata": {
    "collapsed": true
   },
   "outputs": [],
   "source": [
    "from sklearn.linear_model import LinearRegression,LassoCV, Ridge, LassoLarsCV,ElasticNetCV\n",
    "from sklearn.model_selection import GridSearchCV, cross_val_score, learning_curve"
   ]
  },
  {
   "cell_type": "code",
   "execution_count": null,
   "metadata": {
    "collapsed": true
   },
   "outputs": [],
   "source": [
    "from sklearn.metrics import r2_score\n",
    "from sklearn.ensemble import RandomForestRegressor,GradientBoostingRegressor"
   ]
  },
  {
   "cell_type": "code",
   "execution_count": 52,
   "metadata": {
    "collapsed": true
   },
   "outputs": [],
   "source": [
    "def RMSE(y_true, y_pred):\n",
    "    return np.sqrt(np.sum(np.power((y_true-y_pred),2))/len(y_pred))"
   ]
  },
  {
   "cell_type": "code",
   "execution_count": 49,
   "metadata": {
    "collapsed": true
   },
   "outputs": [],
   "source": [
    "def RMSE(estimator,X_train, Y_train, cv=5,n_jobs=4):\n",
    "    cv_results = cross_val_score(estimator,X_train,Y_train,cv=cv,scoring=\"neg_mean_squared_error\",n_jobs=n_jobs)\n",
    "    return (np.sqrt(-cv_results)).mean()"
   ]
  },
  {
   "cell_type": "code",
   "execution_count": 59,
   "metadata": {
    "collapsed": true
   },
   "outputs": [],
   "source": [
    "lassocv = LassoCV(eps=1e-3) \n",
    "ridge = Ridge(alpha=1e-5) \n",
    "lassolarscv = LassoLarsCV()\n",
    "elasticnetcv = ElasticNetCV(eps=1e-8)"
   ]
  },
  {
   "cell_type": "code",
   "execution_count": 60,
   "metadata": {},
   "outputs": [
    {
     "data": {
      "text/plain": [
       "ElasticNetCV(alphas=None, copy_X=True, cv=None, eps=1e-08, fit_intercept=True,\n",
       "       l1_ratio=0.5, max_iter=1000, n_alphas=100, n_jobs=1,\n",
       "       normalize=False, positive=False, precompute='auto',\n",
       "       random_state=None, selection='cyclic', tol=0.0001, verbose=0)"
      ]
     },
     "execution_count": 60,
     "metadata": {},
     "output_type": "execute_result"
    }
   ],
   "source": [
    "lassocv.fit(X_train,y_train)\n",
    "ridge.fit(X_train,y_train)\n",
    "lassolarscv.fit(X_train,y_train)\n",
    "elasticnetcv.fit(X_train,y_train)"
   ]
  },
  {
   "cell_type": "code",
   "execution_count": 61,
   "metadata": {
    "collapsed": true
   },
   "outputs": [],
   "source": [
    "y_pred_lassocv = lassocv.predict(X_valid)\n",
    "y_pred_ridge = ridge.predict(X_valid)\n",
    "y_pred_lassolarscv = lassolarscv.predict(X_valid)\n",
    "y_pred_elastic = elasticnetcv.predict(X_valid)"
   ]
  },
  {
   "cell_type": "code",
   "execution_count": 64,
   "metadata": {},
   "outputs": [
    {
     "data": {
      "text/plain": [
       "<matplotlib.axes._subplots.AxesSubplot at 0x1a32696c18>"
      ]
     },
     "execution_count": 64,
     "metadata": {},
     "output_type": "execute_result"
    },
    {
     "data": {
      "image/png": "[encoded data removed]",
      "text/plain": [
       "<matplotlib.figure.Figure at 0x1a326964a8>"
      ]
     },
     "metadata": {},
     "output_type": "display_data"
    }
   ],
   "source": [
    "sns.distplot(y_pred_lassocv)"
   ]
  },
  {
   "cell_type": "code",
   "execution_count": 62,
   "metadata": {},
   "outputs": [
    {
     "name": "stdout",
     "output_type": "stream",
     "text": [
      "The RMSE score with lassocv:  8.83497390858\n",
      "The RMSE score with ridge:  8.76936526105\n",
      "The RMSE score with lassolarscv:  8.76936261367\n",
      "The RMSE score with elasticnetcv:  8.76936701936\n"
     ]
    }
   ],
   "source": [
    "print('The RMSE score with lassocv: ', RMSE(y_valid, y_pred_lassocv))\n",
    "print('The RMSE score with ridge: ', RMSE(y_valid, y_pred_ridge ))\n",
    "print('The RMSE score with lassolarscv: ', RMSE(y_valid, y_pred_lassolarscv))\n",
    "print('The RMSE score with elasticnetcv: ', RMSE(y_valid, y_pred_elastic))"
   ]
  },
  {
   "cell_type": "code",
   "execution_count": null,
   "metadata": {
    "collapsed": true
   },
   "outputs": [],
   "source": [
    "print(\"LassoCV regression has conserved %d features over %d\"%(len(features[lassocv.coef_!=0]),X_train.shape[1]))\n",
    "print(\"Ridge regression has conserved %d features over %d\"%(len(features[ridge.coef_!=0]),X_train.shape[1]))\n",
    "print(\"LassoLarsCV regression has conserved %d features over %d\"%(len(features[lassolarscv.coef_!=0]) ,X_train.shape[1]))\n",
    "print(\"ElasticNetCV regression has conserved %d features over %d\"%(len(features[elasticnetcv.coef_!=0]),X_train.shape[1]))"
   ]
  },
  {
   "cell_type": "code",
   "execution_count": 85,
   "metadata": {},
   "outputs": [
    {
     "name": "stdout",
     "output_type": "stream",
     "text": [
      "The RMSE score with RandomForest:  8.50223111367\n",
      "The R2 score with RandomForest:  0.120182737659\n"
     ]
    }
   ],
   "source": [
    "#model \n",
    "regr = RandomForestRegressor(n_estimators=150,max_features=0.9,max_depth=7)\n",
    "#fit\n",
    "regr.fit(X_train, y_train)\n",
    "#predict\n",
    "y_pred = regr.predict(X_valid)\n",
    "\n",
    "#metric\n",
    "rmse_rf = RMSE(y_valid, y_pred)\n",
    "r2_rf = r2_score(y_valid, y_pred)\n",
    "print('The RMSE score with RandomForest: ',rmse_rf)\n",
    "print('The R2 score with RandomForest: ',r2_rf)"
   ]
  },
  {
   "cell_type": "code",
   "execution_count": 51,
   "metadata": {
    "collapsed": true
   },
   "outputs": [],
   "source": [
    "from sklearn.ensemble import GradientBoostingRegressor\n",
    "#model \n",
    "regr = GradientBoostingRegressor()\n",
    "#fit\n",
    "regr.fit(X, y)\n",
    "#predict\n",
    "y_pred = regr.predict(X_test)\n",
    "\n",
    "#metric\n",
    "#rmse_rf = RMSE(y_valid, y_pred)\n",
    "#r2_rf = r2_score(y_valid, y_pred)\n",
    "#print('The RMSE score with RandomForest: ',rmse_rf)\n",
    "#print('The R2 score with RandomForest: ',r2_rf)"
   ]
  },
  {
   "cell_type": "code",
   "execution_count": 67,
   "metadata": {},
   "outputs": [
    {
     "name": "stdout",
     "output_type": "stream",
     "text": [
      "The RMSE score with RandomForest:  8.31756520318\n",
      "The R2 score with RandomForest:  0.15798624755\n"
     ]
    }
   ],
   "source": [
    "import xgboost as xgb\n",
    "from xgboost import XGBRegressor\n",
    "model = XGBRegressor(n_estimators=100, learning_rate=0.1, gamma=0, subsample=0.75,\n",
    "                           colsample_bytree=1, max_depth=10)\n",
    "model.fit(X_train.values, y_train)\n",
    "y_pred_xgb = model.predict(X_valid.values)\n",
    "#metric\n",
    "rmse_rf = RMSE(y_valid, y_pred_xgb)\n",
    "r2_rf = r2_score(y_valid, y_pred_xgb)\n",
    "print('The RMSE score with RandomForest: ',rmse_rf)\n",
    "print('The R2 score with RandomForest: ',r2_rf)"
   ]
  },
  {
   "cell_type": "code",
   "execution_count": 60,
   "metadata": {},
   "outputs": [
    {
     "name": "stderr",
     "output_type": "stream",
     "text": [
      "Exception ignored in: <bound method DMatrix.__del__ of <xgboost.core.DMatrix object at 0x1b783cf6a0>>\n",
      "Traceback (most recent call last):\n",
      "  File \"/Users/lingjin/anaconda3/lib/python3.5/site-packages/xgboost-0.6-py3.5.egg/xgboost/core.py\", line 368, in __del__\n",
      "    if self.handle is not None:\n",
      "AttributeError: 'DMatrix' object has no attribute 'handle'\n",
      "Exception ignored in: <bound method DMatrix.__del__ of <xgboost.core.DMatrix object at 0x1b78371748>>\n",
      "Traceback (most recent call last):\n",
      "  File \"/Users/lingjin/anaconda3/lib/python3.5/site-packages/xgboost-0.6-py3.5.egg/xgboost/core.py\", line 368, in __del__\n",
      "    if self.handle is not None:\n",
      "AttributeError: 'DMatrix' object has no attribute 'handle'\n"
     ]
    },
    {
     "data": {
      "text/html": [
       "<div>\n",
       "<style scoped>\n",
       "    .dataframe tbody tr th:only-of-type {\n",
       "        vertical-align: middle;\n",
       "    }\n",
       "\n",
       "    .dataframe tbody tr th {\n",
       "        vertical-align: top;\n",
       "    }\n",
       "\n",
       "    .dataframe thead th {\n",
       "        text-align: right;\n",
       "    }\n",
       "</style>\n",
       "<table border=\"1\" class=\"dataframe\">\n",
       "  <thead>\n",
       "    <tr style=\"text-align: right;\">\n",
       "      <th></th>\n",
       "      <th>creative_duration</th>\n",
       "      <th>creative_id</th>\n",
       "      <th>campaign_id</th>\n",
       "      <th>advertiser_id</th>\n",
       "      <th>placement_id</th>\n",
       "      <th>website_id</th>\n",
       "      <th>ua_browser_version</th>\n",
       "      <th>user_average_seconds_played</th>\n",
       "      <th>h</th>\n",
       "      <th>min</th>\n",
       "      <th>sec</th>\n",
       "      <th>A</th>\n",
       "      <th>B</th>\n",
       "      <th>placement_language</th>\n",
       "      <th>ua_country</th>\n",
       "      <th>ua_os</th>\n",
       "      <th>ua_browser</th>\n",
       "      <th>ua_device</th>\n",
       "    </tr>\n",
       "  </thead>\n",
       "  <tbody>\n",
       "    <tr>\n",
       "      <th>417902</th>\n",
       "      <td>14</td>\n",
       "      <td>202562</td>\n",
       "      <td>215471</td>\n",
       "      <td>7338.0</td>\n",
       "      <td>70822</td>\n",
       "      <td>29252</td>\n",
       "      <td>11.0</td>\n",
       "      <td>4.0</td>\n",
       "      <td>20</td>\n",
       "      <td>48</td>\n",
       "      <td>20</td>\n",
       "      <td>20</td>\n",
       "      <td>2016</td>\n",
       "      <td>4</td>\n",
       "      <td>22</td>\n",
       "      <td>0</td>\n",
       "      <td>31</td>\n",
       "      <td>2</td>\n",
       "    </tr>\n",
       "    <tr>\n",
       "      <th>770612</th>\n",
       "      <td>14</td>\n",
       "      <td>201230</td>\n",
       "      <td>213879</td>\n",
       "      <td>7339.0</td>\n",
       "      <td>64582</td>\n",
       "      <td>39541</td>\n",
       "      <td>10.0</td>\n",
       "      <td>0.0</td>\n",
       "      <td>17</td>\n",
       "      <td>31</td>\n",
       "      <td>52</td>\n",
       "      <td>66</td>\n",
       "      <td>2023</td>\n",
       "      <td>4</td>\n",
       "      <td>44</td>\n",
       "      <td>17</td>\n",
       "      <td>77</td>\n",
       "      <td>2</td>\n",
       "    </tr>\n",
       "    <tr>\n",
       "      <th>2109852</th>\n",
       "      <td>28</td>\n",
       "      <td>200600</td>\n",
       "      <td>213142</td>\n",
       "      <td>9171.0</td>\n",
       "      <td>41902</td>\n",
       "      <td>29146</td>\n",
       "      <td>64.0</td>\n",
       "      <td>14.0</td>\n",
       "      <td>20</td>\n",
       "      <td>19</td>\n",
       "      <td>47</td>\n",
       "      <td>20</td>\n",
       "      <td>2140</td>\n",
       "      <td>4</td>\n",
       "      <td>22</td>\n",
       "      <td>0</td>\n",
       "      <td>22</td>\n",
       "      <td>3</td>\n",
       "    </tr>\n",
       "    <tr>\n",
       "      <th>1501927</th>\n",
       "      <td>29</td>\n",
       "      <td>202035</td>\n",
       "      <td>212923</td>\n",
       "      <td>7505.0</td>\n",
       "      <td>43774</td>\n",
       "      <td>30081</td>\n",
       "      <td>11.0</td>\n",
       "      <td>0.0</td>\n",
       "      <td>17</td>\n",
       "      <td>45</td>\n",
       "      <td>24</td>\n",
       "      <td>33</td>\n",
       "      <td>830</td>\n",
       "      <td>4</td>\n",
       "      <td>131</td>\n",
       "      <td>17</td>\n",
       "      <td>77</td>\n",
       "      <td>3</td>\n",
       "    </tr>\n",
       "    <tr>\n",
       "      <th>2948991</th>\n",
       "      <td>29</td>\n",
       "      <td>201229</td>\n",
       "      <td>213877</td>\n",
       "      <td>7339.0</td>\n",
       "      <td>49052</td>\n",
       "      <td>19658</td>\n",
       "      <td>10.0</td>\n",
       "      <td>10.0</td>\n",
       "      <td>16</td>\n",
       "      <td>09</td>\n",
       "      <td>46</td>\n",
       "      <td>33</td>\n",
       "      <td>318</td>\n",
       "      <td>4</td>\n",
       "      <td>44</td>\n",
       "      <td>12</td>\n",
       "      <td>76</td>\n",
       "      <td>1</td>\n",
       "    </tr>\n",
       "  </tbody>\n",
       "</table>\n",
       "</div>"
      ],
      "text/plain": [
       "         creative_duration  creative_id  campaign_id  advertiser_id  \\\n",
       "417902                  14       202562       215471         7338.0   \n",
       "770612                  14       201230       213879         7339.0   \n",
       "2109852                 28       200600       213142         9171.0   \n",
       "1501927                 29       202035       212923         7505.0   \n",
       "2948991                 29       201229       213877         7339.0   \n",
       "\n",
       "         placement_id  website_id  ua_browser_version  \\\n",
       "417902          70822       29252                11.0   \n",
       "770612          64582       39541                10.0   \n",
       "2109852         41902       29146                64.0   \n",
       "1501927         43774       30081                11.0   \n",
       "2948991         49052       19658                10.0   \n",
       "\n",
       "         user_average_seconds_played   h min sec   A     B  \\\n",
       "417902                           4.0  20  48  20  20  2016   \n",
       "770612                           0.0  17  31  52  66  2023   \n",
       "2109852                         14.0  20  19  47  20  2140   \n",
       "1501927                          0.0  17  45  24  33   830   \n",
       "2948991                         10.0  16  09  46  33   318   \n",
       "\n",
       "         placement_language  ua_country  ua_os  ua_browser  ua_device  \n",
       "417902                    4          22      0          31          2  \n",
       "770612                    4          44     17          77          2  \n",
       "2109852                   4          22      0          22          3  \n",
       "1501927                   4         131     17          77          3  \n",
       "2948991                   4          44     12          76          1  "
      ]
     },
     "execution_count": 60,
     "metadata": {},
     "output_type": "execute_result"
    }
   ],
   "source": [
    "X_train.head()"
   ]
  },
  {
   "cell_type": "code",
   "execution_count": 191,
   "metadata": {
    "collapsed": true
   },
   "outputs": [],
   "source": [
    "#predict\n",
    "y_pred_test = regr.predict(X_test)"
   ]
  },
  {
   "cell_type": "code",
   "execution_count": 53,
   "metadata": {
    "collapsed": true
   },
   "outputs": [],
   "source": [
    "result = pd.DataFrame()\n",
    "result[\"auction_id\"] = test[\"auction_id\"].copy()\n",
    "result[\"predicted_seconds_played\"] = y_pred.copy()"
   ]
  },
  {
   "cell_type": "code",
   "execution_count": 87,
   "metadata": {},
   "outputs": [
    {
     "name": "stdout",
     "output_type": "stream",
     "text": [
      "The RMSE score with RandomForest:  9.06457232901\n",
      "The R2 score with RandomForest:  -4.90553228278e-05\n"
     ]
    }
   ],
   "source": [
    "from sklearn.neural_network import MLPRegressor\n",
    "mlp = MLPRegressor(hidden_layer_sizes=(100, 100), activation='tanh', alpha=0.01)\n",
    "mlp.fit(X_train, y_train)\n",
    "#predict\n",
    "y_pred = mlp.predict(X_valid)\n",
    "\n",
    "#metric\n",
    "rmse_mlp = RMSE(y_valid, y_pred)\n",
    "r2_mlp = r2_score(y_valid, y_pred)\n",
    "print('The RMSE score with RandomForest: ',rmse_mlp)\n",
    "print('The R2 score with RandomForest: ',r2_mlp)"
   ]
  },
  {
   "cell_type": "markdown",
   "metadata": {},
   "source": [
    "### To get the predictions for test data"
   ]
  },
  {
   "cell_type": "code",
   "execution_count": 88,
   "metadata": {
    "collapsed": true
   },
   "outputs": [],
   "source": [
    "#to output the submission file like follows\n",
    "#np.savetxt('y_pred.txt', y_pred, fmt='%d')"
   ]
  },
  {
   "cell_type": "code",
   "execution_count": 54,
   "metadata": {
    "collapsed": true
   },
   "outputs": [],
   "source": [
    "result.to_csv(\"submission.csv\", index=False)"
   ]
  }
 ],
 "metadata": {
  "kernelspec": {
   "display_name": "Python 3",
   "language": "python",
   "name": "python3"
  },
  "language_info": {
   "codemirror_mode": {
    "name": "ipython",
    "version": 3
   },
   "file_extension": ".py",
   "mimetype": "text/x-python",
   "name": "python",
   "nbconvert_exporter": "python",
   "pygments_lexer": "ipython3",
   "version": "3.5.4"
  }
 },
 "nbformat": 4,
 "nbformat_minor": 2
}
